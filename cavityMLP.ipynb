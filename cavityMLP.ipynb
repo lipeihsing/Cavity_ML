{
 "cells": [
  {
   "cell_type": "code",
   "execution_count": 1,
   "id": "d13c66ff-32ed-4138-ab9e-3329d87e15c8",
   "metadata": {},
   "outputs": [],
   "source": [
    "import torch\n",
    "import numpy as np\n",
    "import pandas as pd\n",
    "import torch.nn as nn\n",
    "import torch.nn.functional as F\n",
    "from torch.utils.data import Dataset, DataLoader"
   ]
  },
  {
   "cell_type": "code",
   "execution_count": 9,
   "id": "189b9f7b",
   "metadata": {},
   "outputs": [],
   "source": [
    "class mlp(nn.Module):\n",
    "    def __init__(self, input_dim, hidden_dim1, hidden_dim2, output_dim):\n",
    "        super(mlp, self).__init__()\n",
    "        self.network = nn.Sequential(\n",
    "            nn.Linear(input_dim, hidden_dim1),\n",
    "            nn.ReLU(),\n",
    "            nn.Linear(hidden_dim1, hidden_dim2),\n",
    "            nn.ReLU(),\n",
    "            nn.Linear(hidden_dim2, output_dim)\n",
    "        )\n",
    "\n",
    "    def forward(self, x):\n",
    "        return self.network(x)"
   ]
  },
  {
   "cell_type": "code",
   "execution_count": 10,
   "id": "4ebc465c",
   "metadata": {},
   "outputs": [],
   "source": [
    "class rnn(nn.Module):\n",
    "    def __init__(self, input_dim, hidden_dim1, hidden_dim2, output_dim, num_layers=1):\n",
    "        super(rnn, self).__init__()\n",
    "        self.rnn_h = nn.RNN(input_dim, hidden_dim1, num_layers, nonlinearity='relu', batch_first=True, bidirectional=True)\n",
    "        #self.fc1 = nn.Linear(24, 18)\n",
    "        #self.fc2 = nn.Linear(18, 8)\n",
    "        self.fc3 = nn.Linear(48, output_dim)\n",
    "\n",
    "    def forward(self, x):\n",
    "        out, _ = self.rnn_h(x)\n",
    "        #out = out.squeeze()\n",
    "        #out = self.fc1(out)\n",
    "        #out = self.fc2(out)\n",
    "        out = out.reshape(out.size(dim=0),out.size(dim=1)*out.size(dim=2))\n",
    "        out = self.fc3(out)\n",
    "        return out"
   ]
  },
  {
   "cell_type": "code",
   "execution_count": 11,
   "id": "cc66e418",
   "metadata": {},
   "outputs": [],
   "source": [
    "class TrxEncoder(nn.Module):\n",
    "    def __init__(self, d_token, n_head, dim_ffn):\n",
    "        super(TrxEncoder, self).__init__()\n",
    "        self.encoderLayer = nn.TransformerEncoderLayer(d_token, n_head, dim_ffn, batch_first=True)\n",
    "        self.encoder = nn.TransformerEncoder(self.encoderLayer, num_layers=3, enable_nested_tensor=False)\n",
    "        self.ffn = nn.Linear(24,2)\n",
    "    \n",
    "    def forward(self, x):\n",
    "        x = x.reshape(len(x),24,1)\n",
    "        y = self.encoder(x).squeeze()\n",
    "        y = self.ffn(y)\n",
    "        return y"
   ]
  },
  {
   "cell_type": "code",
   "execution_count": 12,
   "id": "c0ab0568",
   "metadata": {},
   "outputs": [],
   "source": [
    "class dataset(Dataset):\n",
    "    def __init__(self, csv_file):\n",
    "        df = pd.read_csv(csv_file,header=None)\n",
    "        N = len(df)\n",
    "        self.input = torch.tensor(df.iloc[:, :-2].values).float()\n",
    "        self.input = self.input - 10\n",
    "        self.output = torch.tensor(df.iloc[:, -2:].values).float()\n",
    "        #self.output = -self.output\n",
    "    \n",
    "    def __len__(self):\n",
    "        return len(self.output)\n",
    "\n",
    "    def __getitem__(self, idx):\n",
    "        return self.input[idx], self.output[idx]"
   ]
  },
  {
   "cell_type": "code",
   "execution_count": 13,
   "id": "46e87d52",
   "metadata": {},
   "outputs": [],
   "source": [
    "def train(data_loader, model, optimizer, epoch, criterion, device):\n",
    "    # set the model to training mode\n",
    "    model.train()\n",
    "    \n",
    "    for (step, value) in enumerate(data_loader):\n",
    "        data = value[0].to(device)\n",
    "        target = value[1].to(device)\n",
    "        optimizer.zero_grad()\n",
    "        pred = model(data)\n",
    "        loss = criterion(pred, target)\n",
    "        loss.backward()\n",
    "        optimizer.step()\n",
    "        \n",
    "    return loss.item()"
   ]
  },
  {
   "cell_type": "code",
   "execution_count": 14,
   "id": "aca2f2ac",
   "metadata": {},
   "outputs": [],
   "source": [
    "def test(data_loader, model, criterion, device):\n",
    "    # set the model to evaluation mode\n",
    "    model.eval()\n",
    "    \n",
    "    for (step, value) in enumerate(data_loader):\n",
    "        data = value[0].to(device)\n",
    "        target = value[1].to(device)\n",
    "        pred = model(data)\n",
    "        loss = criterion(pred, target)\n",
    "        \n",
    "    return loss.item()"
   ]
  },
  {
   "cell_type": "code",
   "execution_count": 15,
   "id": "81439b78",
   "metadata": {},
   "outputs": [
    {
     "name": "stdout",
     "output_type": "stream",
     "text": [
      "Epoch 0, train_loss: 1803.042236328125, test_loss: 1543.71826171875\n",
      "Epoch 100, train_loss: 10.205170631408691, test_loss: 9.7351713180542\n",
      "Epoch 200, train_loss: 5.140499591827393, test_loss: 6.028907775878906\n",
      "Epoch 300, train_loss: 4.630681991577148, test_loss: 5.44679594039917\n",
      "Epoch 400, train_loss: 4.299884796142578, test_loss: 5.22344446182251\n",
      "Epoch 500, train_loss: 3.9188232421875, test_loss: 4.954413890838623\n",
      "Epoch 600, train_loss: 3.4707589149475098, test_loss: 4.826680660247803\n",
      "Epoch 700, train_loss: 3.2860608100891113, test_loss: 4.327934741973877\n",
      "Epoch 800, train_loss: 3.054774522781372, test_loss: 4.262598514556885\n",
      "Epoch 900, train_loss: 3.041782855987549, test_loss: 4.194814682006836\n",
      "Epoch 1000, train_loss: 2.969710111618042, test_loss: 4.162206172943115\n"
     ]
    }
   ],
   "source": [
    "# Check if CUDA is available and set device to GPU if it is\n",
    "device = torch.device(\"cuda\" if torch.cuda.is_available() else \"cpu\")\n",
    "torch.manual_seed(1337)\n",
    "torch.cuda.manual_seed(1337)\n",
    "\n",
    "train_set = dataset(\"trainset.csv\")\n",
    "test_set = dataset(\"testset.csv\")\n",
    "\n",
    "input_dim = len(train_set[0][0])\n",
    "output_dim = len(test_set[0][1])\n",
    "hidden_dim1 = 18\n",
    "hidden_dim2 = 8\n",
    "N = train_set.__len__()\n",
    "\n",
    "# setup hyperparameters\n",
    "batch_size = 512\n",
    "lr = 0.01\n",
    "n_epoch = 1000\n",
    "\n",
    "train_loader = DataLoader(\n",
    "                train_set,\n",
    "                batch_size=batch_size\n",
    "            )\n",
    "test_loader = DataLoader(\n",
    "                test_set,\n",
    "                batch_size=batch_size\n",
    "            )\n",
    "\n",
    "d_token = 1\n",
    "n_head = 1\n",
    "dim_ffn = 24\n",
    "model = mlp(input_dim, hidden_dim1, hidden_dim2, output_dim)\n",
    "model = model.to(device)\n",
    "optimizer = torch.optim.Adam(model.parameters(), lr=lr)   # Use Adam optimizer\n",
    "criterion = nn.MSELoss()\n",
    "\n",
    "# training and evaluation\n",
    "for ep in range(n_epoch+1):\n",
    "    train_loss = train(train_loader, model, optimizer, n_epoch, criterion, device)\n",
    "    if ep%100 == 0:\n",
    "        test_loss = test(test_loader, model, criterion, device)\n",
    "        print(f\"Epoch {ep}, train_loss: {train_loss}, test_loss: {test_loss}\")"
   ]
  },
  {
   "cell_type": "code",
   "execution_count": 111,
   "id": "c28c0b6b",
   "metadata": {},
   "outputs": [
    {
     "name": "stdout",
     "output_type": "stream",
     "text": [
      "tensor([[ 3.1849,  3.9992,  1.7387,  ...,  6.4917,  5.4571,  4.1548],\n",
      "        [ 0.8773, -1.3968, -3.5463,  ...,  7.7472,  6.9451,  6.2222],\n",
      "        [-3.1082, -1.5100, -4.2988,  ...,  2.9856,  2.2455,  5.3241],\n",
      "        ...,\n",
      "        [ 0.0221,  1.0008,  2.0454,  ...,  1.7404,  2.1688,  4.8853],\n",
      "        [ 3.6667,  1.7543,  2.8841,  ...,  9.0000,  8.1854,  7.5771],\n",
      "        [-2.8162, -0.7126, -3.6593,  ...,  4.5533,  3.5534,  1.2462]],\n",
      "       device='cuda:0')\n"
     ]
    }
   ],
   "source": [
    "x,y = test_set[:]\n",
    "x = x.to(device)\n",
    "y = y.to(device)\n",
    "print(x)"
   ]
  },
  {
   "cell_type": "code",
   "execution_count": 112,
   "id": "85fc97ba",
   "metadata": {},
   "outputs": [
    {
     "name": "stdout",
     "output_type": "stream",
     "text": [
      "Shape: torch.Size([1000, 2])\n",
      "tensor([[51.1757, 64.6335],\n",
      "        [53.0023, 62.7058],\n",
      "        [36.9760, 44.0941],\n",
      "        [60.2110, 61.5573],\n",
      "        [76.0446, 76.4686],\n",
      "        [64.5876, 73.7850],\n",
      "        [73.2042, 72.6481],\n",
      "        [57.6305, 64.8977],\n",
      "        [75.8450, 79.1754],\n",
      "        [38.8730, 49.6922]], device='cuda:0', grad_fn=<SliceBackward0>)\n"
     ]
    }
   ],
   "source": [
    "pred = model(x)\n",
    "print(f\"Shape: {pred.shape}\")\n",
    "print(pred[0:10])"
   ]
  },
  {
   "cell_type": "code",
   "execution_count": 113,
   "id": "503ecb61",
   "metadata": {},
   "outputs": [
    {
     "name": "stdout",
     "output_type": "stream",
     "text": [
      "Final score (RMSE): 1.9499244689941406\n",
      "Final score (RMSE) with training dataset: 1.9499242305755615\n"
     ]
    }
   ],
   "source": [
    "from sklearn import metrics\n",
    "\n",
    "# Measure RMSE error.  RMSE is common for regression.\n",
    "\n",
    "score = np.sqrt(metrics.mean_squared_error(pred.cpu().detach(), y.cpu().detach()))\n",
    "print(f\"Final score (RMSE): {score}\")\n",
    "\n",
    "score = torch.sqrt(torch.nn.functional.mse_loss(pred, y))\n",
    "print(f\"Final score (RMSE) with training dataset: {score}\")"
   ]
  },
  {
   "cell_type": "code",
   "execution_count": null,
   "id": "8c00a27c",
   "metadata": {},
   "outputs": [],
   "source": [
    "# Sample predictions\n",
    "for i in range(50):\n",
    "    print(f\"{i+1}. Actual: {y[i]}, \" + f\"Predicted: {pred[i]}\")"
   ]
  },
  {
   "cell_type": "code",
   "execution_count": null,
   "id": "9154cba2",
   "metadata": {},
   "outputs": [],
   "source": [
    "train_set[0]"
   ]
  },
  {
   "cell_type": "code",
   "execution_count": null,
   "id": "8576d579",
   "metadata": {},
   "outputs": [],
   "source": [
    "x,y = train_set[range(4)]\n",
    "x = x.reshape([4,12,2])\n",
    "rnn = nn.RNN(2, 1, 1, nonlinearity='relu', batch_first=True)"
   ]
  },
  {
   "cell_type": "code",
   "execution_count": null,
   "id": "161c11b2",
   "metadata": {},
   "outputs": [],
   "source": [
    "print(x)"
   ]
  },
  {
   "cell_type": "code",
   "execution_count": null,
   "id": "93711e84",
   "metadata": {},
   "outputs": [],
   "source": [
    "y = rnn(x)\n",
    "print(y)"
   ]
  },
  {
   "cell_type": "code",
   "execution_count": 78,
   "id": "5d21ffae",
   "metadata": {},
   "outputs": [
    {
     "name": "stdout",
     "output_type": "stream",
     "text": [
      "torch.Size([16, 18, 1])\n"
     ]
    }
   ],
   "source": [
    "x = torch.ones([16,24,1])\n",
    "w = torch.ones([24,18])\n",
    "z = torch.matmul(torch.t(w),x)\n",
    "print(z.shape)"
   ]
  },
  {
   "cell_type": "code",
   "execution_count": null,
   "id": "b24a879f",
   "metadata": {},
   "outputs": [],
   "source": []
  },
  {
   "cell_type": "code",
   "execution_count": null,
   "id": "60863e87",
   "metadata": {},
   "outputs": [],
   "source": []
  }
 ],
 "metadata": {
  "kernelspec": {
   "display_name": "Python 3 (ipykernel)",
   "language": "python",
   "name": "python3"
  },
  "language_info": {
   "codemirror_mode": {
    "name": "ipython",
    "version": 3
   },
   "file_extension": ".py",
   "mimetype": "text/x-python",
   "name": "python",
   "nbconvert_exporter": "python",
   "pygments_lexer": "ipython3",
   "version": "3.11.7"
  }
 },
 "nbformat": 4,
 "nbformat_minor": 5
}
