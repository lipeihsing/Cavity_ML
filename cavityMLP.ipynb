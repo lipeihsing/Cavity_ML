{
 "cells": [
  {
   "cell_type": "code",
   "execution_count": 1,
   "id": "d13c66ff-32ed-4138-ab9e-3329d87e15c8",
   "metadata": {},
   "outputs": [],
   "source": [
    "import torch\n",
    "import numpy as np\n",
    "import pandas as pd\n",
    "import torch.nn as nn\n",
    "import torch.nn.functional as F\n",
    "from torch.utils.data import Dataset, DataLoader"
   ]
  },
  {
   "cell_type": "code",
   "execution_count": 2,
   "id": "189b9f7b",
   "metadata": {},
   "outputs": [],
   "source": [
    "class ffn(nn.Module):\n",
    "    def __init__(self, input_dim, hidden_dim1, hidden_dim2, output_dim):\n",
    "        super(ffn, self).__init__()\n",
    "        self.network = nn.Sequential(\n",
    "            nn.Linear(input_dim, hidden_dim1),\n",
    "            nn.ReLU(),\n",
    "            nn.Linear(hidden_dim1, hidden_dim2),\n",
    "            nn.ReLU(),\n",
    "            nn.Linear(hidden_dim2, output_dim)\n",
    "        )\n",
    "\n",
    "    def forward(self, x):\n",
    "        return self.network(x)"
   ]
  },
  {
   "cell_type": "code",
   "execution_count": 3,
   "id": "4ebc465c",
   "metadata": {},
   "outputs": [],
   "source": [
    "class rnn(nn.Module):\n",
    "    def __init__(self, input_dim, hidden_dim1, hidden_dim2, output_dim, num_layers=1):\n",
    "        super(rnn, self).__init__()\n",
    "        self.rnn_h = nn.RNN(input_dim, hidden_dim1, num_layers, nonlinearity='relu', batch_first=True)\n",
    "        self.fc1 = nn.Linear(24, 18)\n",
    "        self.fc2 = nn.Linear(18, 8)\n",
    "        self.fc3 = nn.Linear(8, 2)\n",
    "\n",
    "    def forward(self, x):\n",
    "        out, _ = self.rnn_h(x)\n",
    "        out = out.squeeze()\n",
    "        out = self.fc1(out)\n",
    "        out = self.fc2(out)\n",
    "        out = self.fc3(out)\n",
    "        return out"
   ]
  },
  {
   "cell_type": "code",
   "execution_count": 4,
   "id": "c0ab0568",
   "metadata": {},
   "outputs": [],
   "source": [
    "class dataset(Dataset):\n",
    "    def __init__(self, csv_file):\n",
    "        df = pd.read_csv(csv_file,header=None)\n",
    "        N = len(df)\n",
    "        self.input = torch.tensor(df.iloc[:, :-2].values).float().reshape([N,24,1])\n",
    "        self.output = torch.tensor(df.iloc[:, -2:].values).float()\n",
    "    \n",
    "    def __len__(self):\n",
    "        return len(self.output)\n",
    "\n",
    "    def __getitem__(self, idx):\n",
    "        return self.input[idx], self.output[idx]"
   ]
  },
  {
   "cell_type": "code",
   "execution_count": 5,
   "id": "46e87d52",
   "metadata": {},
   "outputs": [],
   "source": [
    "def train(data_loader, model, optimizer, epoch, criterion, device):\n",
    "    # set the model to training mode\n",
    "    model.train()\n",
    "    \n",
    "    for (step, value) in enumerate(data_loader):\n",
    "        data = value[0].to(device)\n",
    "        target = value[1].to(device)\n",
    "        optimizer.zero_grad()\n",
    "        pred = model(data)\n",
    "        loss = criterion(pred, target)\n",
    "        loss.backward()\n",
    "        optimizer.step()\n",
    "        \n",
    "    return loss.item()"
   ]
  },
  {
   "cell_type": "code",
   "execution_count": 6,
   "id": "aca2f2ac",
   "metadata": {},
   "outputs": [],
   "source": [
    "def test(data_loader, model, criterion, device):\n",
    "    # set the model to evaluation mode\n",
    "    model.eval()\n",
    "    \n",
    "    for (step, value) in enumerate(data_loader):\n",
    "        data = value[0].to(device)\n",
    "        target = value[1].to(device)\n",
    "        pred = model(data)\n",
    "        loss = criterion(pred, target)\n",
    "        \n",
    "    return loss.item()"
   ]
  },
  {
   "cell_type": "code",
   "execution_count": 8,
   "id": "81439b78",
   "metadata": {},
   "outputs": [
    {
     "name": "stdout",
     "output_type": "stream",
     "text": [
      "Epoch 0, train_loss: 3707.406005859375, test_loss: 3735.282470703125\n",
      "Epoch 100, train_loss: 42.64882278442383, test_loss: 37.61775207519531\n",
      "Epoch 200, train_loss: 42.38112258911133, test_loss: 37.261714935302734\n",
      "Epoch 300, train_loss: 42.353912353515625, test_loss: 37.02778625488281\n",
      "Epoch 400, train_loss: 42.336910247802734, test_loss: 36.93550109863281\n",
      "Epoch 500, train_loss: 42.304405212402344, test_loss: 36.884132385253906\n",
      "Epoch 600, train_loss: 42.273380279541016, test_loss: 36.84535598754883\n",
      "Epoch 700, train_loss: 42.24209976196289, test_loss: 36.83115005493164\n",
      "Epoch 800, train_loss: 42.22285842895508, test_loss: 36.81666946411133\n",
      "Epoch 900, train_loss: 42.21208572387695, test_loss: 36.8077392578125\n",
      "Epoch 1000, train_loss: 42.20142364501953, test_loss: 36.801788330078125\n",
      "Epoch 1100, train_loss: 42.196163177490234, test_loss: 36.7968864440918\n",
      "Epoch 1200, train_loss: 42.19929885864258, test_loss: 36.7883415222168\n",
      "Epoch 1300, train_loss: 42.196895599365234, test_loss: 36.77760696411133\n",
      "Epoch 1400, train_loss: 42.191402435302734, test_loss: 36.76728057861328\n",
      "Epoch 1500, train_loss: 42.18460464477539, test_loss: 36.76314926147461\n",
      "Epoch 1600, train_loss: 42.173248291015625, test_loss: 36.76040267944336\n",
      "Epoch 1700, train_loss: 42.169342041015625, test_loss: 36.75992202758789\n",
      "Epoch 1800, train_loss: 42.15685272216797, test_loss: 36.7574348449707\n",
      "Epoch 1900, train_loss: 42.148101806640625, test_loss: 36.759700775146484\n",
      "Epoch 2000, train_loss: 42.12921142578125, test_loss: 36.75545883178711\n"
     ]
    }
   ],
   "source": [
    "# Check if CUDA is available and set device to GPU if it is\n",
    "device = torch.device(\"cuda\" if torch.cuda.is_available() else \"cpu\")\n",
    "torch.manual_seed(1337)\n",
    "torch.cuda.manual_seed(1337)\n",
    "\n",
    "train_set = dataset(\"trainset.csv\")\n",
    "test_set = dataset(\"testset.csv\")\n",
    "\n",
    "input_dim = len(train_set[0][0])\n",
    "output_dim = len(test_set[0][1])\n",
    "hidden_dim1 = 18\n",
    "hidden_dim2 = 8\n",
    "N = train_set.__len__()\n",
    "\n",
    "# setup hyperparameters\n",
    "batch_size = 512\n",
    "lr = 0.01\n",
    "n_epoch = 2000\n",
    "\n",
    "train_loader = DataLoader(\n",
    "                train_set,\n",
    "                batch_size=batch_size\n",
    "            )\n",
    "test_loader = DataLoader(\n",
    "                test_set,\n",
    "                batch_size=batch_size\n",
    "            )\n",
    "\n",
    "model = rnn(1, 1, 12, output_dim)\n",
    "model = model.to(device)\n",
    "optimizer = torch.optim.Adam(model.parameters(), lr=lr)   # Use Adam optimizer\n",
    "criterion = nn.MSELoss()\n",
    "\n",
    "# training and evaluation\n",
    "for ep in range(n_epoch+1):\n",
    "    train_loss = train(train_loader, model, optimizer, n_epoch, criterion, device)\n",
    "    if ep%100 == 0:\n",
    "        test_loss = test(test_loader, model, criterion, device)\n",
    "        print(f\"Epoch {ep}, train_loss: {train_loss}, test_loss: {test_loss}\")"
   ]
  },
  {
   "cell_type": "code",
   "execution_count": 202,
   "id": "c28c0b6b",
   "metadata": {},
   "outputs": [
    {
     "name": "stdout",
     "output_type": "stream",
     "text": [
      "tensor([[13.1849, 13.9992, 11.7387,  ..., 16.4917, 15.4571, 14.1548],\n",
      "        [10.8773,  8.6032,  6.4537,  ..., 17.7472, 16.9451, 16.2222],\n",
      "        [ 6.8918,  8.4900,  5.7012,  ..., 12.9856, 12.2455, 15.3241],\n",
      "        ...,\n",
      "        [10.0221, 11.0008, 12.0454,  ..., 11.7404, 12.1688, 14.8853],\n",
      "        [13.6667, 11.7543, 12.8841,  ..., 19.0000, 18.1854, 17.5771],\n",
      "        [ 7.1838,  9.2874,  6.3407,  ..., 14.5533, 13.5534, 11.2462]],\n",
      "       device='cuda:0')\n"
     ]
    }
   ],
   "source": [
    "x,y = test_set[:]\n",
    "x = x.to(device)\n",
    "y = y.to(device)\n",
    "print(x)"
   ]
  },
  {
   "cell_type": "code",
   "execution_count": 198,
   "id": "85fc97ba",
   "metadata": {},
   "outputs": [
    {
     "name": "stdout",
     "output_type": "stream",
     "text": [
      "Shape: torch.Size([1000, 2])\n",
      "tensor([[41.5390, 52.9439],\n",
      "        [45.8918, 63.4754],\n",
      "        [35.8327, 44.9116],\n",
      "        [66.3797, 60.8742],\n",
      "        [78.7583, 74.6940],\n",
      "        [64.4542, 73.3021],\n",
      "        [69.3992, 69.6439],\n",
      "        [52.8433, 60.2746],\n",
      "        [74.6433, 80.3555],\n",
      "        [36.0487, 47.8025]], device='cuda:0', grad_fn=<SliceBackward0>)\n"
     ]
    }
   ],
   "source": [
    "pred = model(x)\n",
    "print(f\"Shape: {pred.shape}\")\n",
    "print(pred[0:10])"
   ]
  },
  {
   "cell_type": "code",
   "execution_count": 199,
   "id": "503ecb61",
   "metadata": {},
   "outputs": [
    {
     "name": "stdout",
     "output_type": "stream",
     "text": [
      "Final score (RMSE): 3.489196538925171\n",
      "Final score (RMSE) with training dataset: 3.489196538925171\n"
     ]
    }
   ],
   "source": [
    "from sklearn import metrics\n",
    "\n",
    "# Measure RMSE error.  RMSE is common for regression.\n",
    "\n",
    "score = np.sqrt(metrics.mean_squared_error(pred.cpu().detach(), y.cpu().detach()))\n",
    "print(f\"Final score (RMSE): {score}\")\n",
    "\n",
    "score = torch.sqrt(torch.nn.functional.mse_loss(pred, y))\n",
    "print(f\"Final score (RMSE) with training dataset: {score}\")"
   ]
  },
  {
   "cell_type": "code",
   "execution_count": 200,
   "id": "8c00a27c",
   "metadata": {},
   "outputs": [
    {
     "name": "stdout",
     "output_type": "stream",
     "text": [
      "1. Actual: tensor([51.0109, 61.6222], device='cuda:0'), Predicted: tensor([41.5390, 52.9439], device='cuda:0', grad_fn=<SelectBackward0>)\n",
      "2. Actual: tensor([53.4241, 63.2120], device='cuda:0'), Predicted: tensor([45.8918, 63.4754], device='cuda:0', grad_fn=<SelectBackward0>)\n",
      "3. Actual: tensor([36.6702, 45.9392], device='cuda:0'), Predicted: tensor([35.8327, 44.9116], device='cuda:0', grad_fn=<SelectBackward0>)\n",
      "4. Actual: tensor([57.8885, 61.5989], device='cuda:0'), Predicted: tensor([66.3797, 60.8742], device='cuda:0', grad_fn=<SelectBackward0>)\n",
      "5. Actual: tensor([80.0552, 75.1403], device='cuda:0'), Predicted: tensor([78.7583, 74.6940], device='cuda:0', grad_fn=<SelectBackward0>)\n",
      "6. Actual: tensor([63.3119, 76.4552], device='cuda:0'), Predicted: tensor([64.4542, 73.3021], device='cuda:0', grad_fn=<SelectBackward0>)\n",
      "7. Actual: tensor([75.9189, 72.5088], device='cuda:0'), Predicted: tensor([69.3992, 69.6439], device='cuda:0', grad_fn=<SelectBackward0>)\n",
      "8. Actual: tensor([55.9193, 63.1268], device='cuda:0'), Predicted: tensor([52.8433, 60.2746], device='cuda:0', grad_fn=<SelectBackward0>)\n",
      "9. Actual: tensor([75.9794, 76.5926], device='cuda:0'), Predicted: tensor([74.6433, 80.3555], device='cuda:0', grad_fn=<SelectBackward0>)\n",
      "10. Actual: tensor([37.5860, 47.9917], device='cuda:0'), Predicted: tensor([36.0487, 47.8025], device='cuda:0', grad_fn=<SelectBackward0>)\n",
      "11. Actual: tensor([64.5485, 60.7042], device='cuda:0'), Predicted: tensor([59.7965, 62.2903], device='cuda:0', grad_fn=<SelectBackward0>)\n",
      "12. Actual: tensor([81.0232, 73.1447], device='cuda:0'), Predicted: tensor([73.8031, 72.6398], device='cuda:0', grad_fn=<SelectBackward0>)\n",
      "13. Actual: tensor([45.1292, 62.1416], device='cuda:0'), Predicted: tensor([42.9408, 60.5966], device='cuda:0', grad_fn=<SelectBackward0>)\n",
      "14. Actual: tensor([60.8736, 68.4049], device='cuda:0'), Predicted: tensor([61.0628, 70.1194], device='cuda:0', grad_fn=<SelectBackward0>)\n",
      "15. Actual: tensor([55.5456, 83.7053], device='cuda:0'), Predicted: tensor([57.5579, 71.1463], device='cuda:0', grad_fn=<SelectBackward0>)\n",
      "16. Actual: tensor([47.9813, 71.6315], device='cuda:0'), Predicted: tensor([50.8903, 65.1631], device='cuda:0', grad_fn=<SelectBackward0>)\n",
      "17. Actual: tensor([77.2024, 76.7394], device='cuda:0'), Predicted: tensor([74.7181, 75.3205], device='cuda:0', grad_fn=<SelectBackward0>)\n",
      "18. Actual: tensor([52.1400, 59.2124], device='cuda:0'), Predicted: tensor([48.3445, 54.5700], device='cuda:0', grad_fn=<SelectBackward0>)\n",
      "19. Actual: tensor([32.7883, 40.6760], device='cuda:0'), Predicted: tensor([37.0677, 46.1209], device='cuda:0', grad_fn=<SelectBackward0>)\n",
      "20. Actual: tensor([71.1225, 79.1795], device='cuda:0'), Predicted: tensor([73.4979, 80.0332], device='cuda:0', grad_fn=<SelectBackward0>)\n",
      "21. Actual: tensor([62.1276, 70.1644], device='cuda:0'), Predicted: tensor([61.6539, 72.0923], device='cuda:0', grad_fn=<SelectBackward0>)\n",
      "22. Actual: tensor([49.3840, 68.5041], device='cuda:0'), Predicted: tensor([49.2240, 62.7150], device='cuda:0', grad_fn=<SelectBackward0>)\n",
      "23. Actual: tensor([58.4969, 62.1513], device='cuda:0'), Predicted: tensor([60.0242, 63.6964], device='cuda:0', grad_fn=<SelectBackward0>)\n",
      "24. Actual: tensor([43.6359, 52.5119], device='cuda:0'), Predicted: tensor([40.2482, 51.2383], device='cuda:0', grad_fn=<SelectBackward0>)\n",
      "25. Actual: tensor([76.0532, 74.8839], device='cuda:0'), Predicted: tensor([79.9646, 78.9495], device='cuda:0', grad_fn=<SelectBackward0>)\n",
      "26. Actual: tensor([59.0596, 65.7378], device='cuda:0'), Predicted: tensor([59.0986, 66.9065], device='cuda:0', grad_fn=<SelectBackward0>)\n",
      "27. Actual: tensor([76.7807, 73.1864], device='cuda:0'), Predicted: tensor([75.0509, 69.7668], device='cuda:0', grad_fn=<SelectBackward0>)\n",
      "28. Actual: tensor([49.4285, 63.1878], device='cuda:0'), Predicted: tensor([47.8805, 58.9806], device='cuda:0', grad_fn=<SelectBackward0>)\n",
      "29. Actual: tensor([63.2948, 70.7471], device='cuda:0'), Predicted: tensor([65.1208, 74.0816], device='cuda:0', grad_fn=<SelectBackward0>)\n",
      "30. Actual: tensor([45.6298, 61.2601], device='cuda:0'), Predicted: tensor([43.0210, 58.8315], device='cuda:0', grad_fn=<SelectBackward0>)\n",
      "31. Actual: tensor([76.3471, 74.2157], device='cuda:0'), Predicted: tensor([74.1309, 75.1205], device='cuda:0', grad_fn=<SelectBackward0>)\n",
      "32. Actual: tensor([75.4538, 79.3152], device='cuda:0'), Predicted: tensor([73.0150, 73.1804], device='cuda:0', grad_fn=<SelectBackward0>)\n",
      "33. Actual: tensor([51.8446, 64.5284], device='cuda:0'), Predicted: tensor([49.5133, 60.6414], device='cuda:0', grad_fn=<SelectBackward0>)\n",
      "34. Actual: tensor([79.3616, 79.3477], device='cuda:0'), Predicted: tensor([74.5263, 78.9782], device='cuda:0', grad_fn=<SelectBackward0>)\n",
      "35. Actual: tensor([75.9070, 76.7108], device='cuda:0'), Predicted: tensor([73.5721, 75.0709], device='cuda:0', grad_fn=<SelectBackward0>)\n",
      "36. Actual: tensor([77.2550, 74.9756], device='cuda:0'), Predicted: tensor([76.4770, 73.7901], device='cuda:0', grad_fn=<SelectBackward0>)\n",
      "37. Actual: tensor([75.2951, 74.8672], device='cuda:0'), Predicted: tensor([77.1586, 76.0295], device='cuda:0', grad_fn=<SelectBackward0>)\n",
      "38. Actual: tensor([69.8406, 66.7815], device='cuda:0'), Predicted: tensor([64.0833, 69.0513], device='cuda:0', grad_fn=<SelectBackward0>)\n",
      "39. Actual: tensor([77.1837, 80.0220], device='cuda:0'), Predicted: tensor([71.0732, 78.1312], device='cuda:0', grad_fn=<SelectBackward0>)\n",
      "40. Actual: tensor([68.3873, 65.0572], device='cuda:0'), Predicted: tensor([64.7532, 68.9610], device='cuda:0', grad_fn=<SelectBackward0>)\n",
      "41. Actual: tensor([70.9788, 77.6338], device='cuda:0'), Predicted: tensor([70.1240, 77.8781], device='cuda:0', grad_fn=<SelectBackward0>)\n",
      "42. Actual: tensor([31.0364, 42.1251], device='cuda:0'), Predicted: tensor([31.8173, 47.3356], device='cuda:0', grad_fn=<SelectBackward0>)\n",
      "43. Actual: tensor([73.3758, 76.3756], device='cuda:0'), Predicted: tensor([76.2471, 79.0973], device='cuda:0', grad_fn=<SelectBackward0>)\n",
      "44. Actual: tensor([37.4491, 49.4073], device='cuda:0'), Predicted: tensor([37.5600, 53.6833], device='cuda:0', grad_fn=<SelectBackward0>)\n",
      "45. Actual: tensor([40.0090, 50.3466], device='cuda:0'), Predicted: tensor([36.8218, 46.3079], device='cuda:0', grad_fn=<SelectBackward0>)\n",
      "46. Actual: tensor([74.1436, 74.9828], device='cuda:0'), Predicted: tensor([78.0874, 79.0986], device='cuda:0', grad_fn=<SelectBackward0>)\n",
      "47. Actual: tensor([57.3335, 60.7851], device='cuda:0'), Predicted: tensor([56.1879, 62.3281], device='cuda:0', grad_fn=<SelectBackward0>)\n",
      "48. Actual: tensor([68.5310, 79.9466], device='cuda:0'), Predicted: tensor([68.0479, 75.7760], device='cuda:0', grad_fn=<SelectBackward0>)\n",
      "49. Actual: tensor([65.2619, 65.9873], device='cuda:0'), Predicted: tensor([70.7383, 65.5863], device='cuda:0', grad_fn=<SelectBackward0>)\n",
      "50. Actual: tensor([32.4632, 42.7132], device='cuda:0'), Predicted: tensor([37.3977, 45.0901], device='cuda:0', grad_fn=<SelectBackward0>)\n"
     ]
    }
   ],
   "source": [
    "# Sample predictions\n",
    "for i in range(50):\n",
    "    print(f\"{i+1}. Actual: {y[i]}, \" + f\"Predicted: {pred[i]}\")"
   ]
  },
  {
   "cell_type": "code",
   "execution_count": 218,
   "id": "9154cba2",
   "metadata": {},
   "outputs": [
    {
     "data": {
      "text/plain": [
       "(tensor([[15.0888],\n",
       "         [12.6446],\n",
       "         [11.8129],\n",
       "         [11.0358],\n",
       "         [ 9.2524],\n",
       "         [11.6496],\n",
       "         [13.5205],\n",
       "         [16.3397],\n",
       "         [18.6308],\n",
       "         [19.0000],\n",
       "         [17.2428],\n",
       "         [17.1545],\n",
       "         [17.8595],\n",
       "         [19.0000],\n",
       "         [16.7978],\n",
       "         [16.4531],\n",
       "         [19.0000],\n",
       "         [19.0000],\n",
       "         [16.8044],\n",
       "         [15.9367],\n",
       "         [16.7803],\n",
       "         [19.0000],\n",
       "         [18.7399],\n",
       "         [16.9162]]),\n",
       " tensor([32.9114, 43.6894]))"
      ]
     },
     "execution_count": 218,
     "metadata": {},
     "output_type": "execute_result"
    }
   ],
   "source": [
    "train_set[0]"
   ]
  },
  {
   "cell_type": "code",
   "execution_count": 329,
   "id": "8576d579",
   "metadata": {},
   "outputs": [],
   "source": [
    "x,y = train_set[range(4)]\n",
    "x = x.reshape([4,12,2])\n",
    "rnn = nn.RNN(2, 1, 1, nonlinearity='relu', batch_first=True)"
   ]
  },
  {
   "cell_type": "code",
   "execution_count": 330,
   "id": "161c11b2",
   "metadata": {},
   "outputs": [
    {
     "name": "stdout",
     "output_type": "stream",
     "text": [
      "tensor([[[15.0888, 12.6446],\n",
      "         [11.8129, 11.0358],\n",
      "         [ 9.2524, 11.6496],\n",
      "         [13.5205, 16.3397],\n",
      "         [18.6308, 19.0000],\n",
      "         [17.2428, 17.1545],\n",
      "         [17.8595, 19.0000],\n",
      "         [16.7978, 16.4531],\n",
      "         [19.0000, 19.0000],\n",
      "         [16.8044, 15.9367],\n",
      "         [16.7803, 19.0000],\n",
      "         [18.7399, 16.9162]],\n",
      "\n",
      "        [[16.7910, 16.1484],\n",
      "         [17.9919, 18.4010],\n",
      "         [18.4195, 19.0000],\n",
      "         [15.9542, 15.5293],\n",
      "         [12.9345, 15.8914],\n",
      "         [16.6398, 15.3505],\n",
      "         [16.4115, 18.7246],\n",
      "         [19.0000, 16.2859],\n",
      "         [19.0000, 16.7159],\n",
      "         [18.4123, 19.0000],\n",
      "         [17.9352, 19.0000],\n",
      "         [15.8380, 15.1843]],\n",
      "\n",
      "        [[ 6.4991,  3.7815],\n",
      "         [ 0.7069,  0.0000],\n",
      "         [ 0.0000,  0.0000],\n",
      "         [ 3.1526,  4.8034],\n",
      "         [ 1.6431,  0.0000],\n",
      "         [ 0.5529,  1.8762],\n",
      "         [ 2.8325,  2.3855],\n",
      "         [ 1.7471,  0.0000],\n",
      "         [ 1.6782,  1.7007],\n",
      "         [ 4.0980,  1.3627],\n",
      "         [ 0.3234,  2.0273],\n",
      "         [ 2.1036,  3.8822]],\n",
      "\n",
      "        [[16.9502, 16.3050],\n",
      "         [14.9342, 12.7878],\n",
      "         [10.1354,  7.2971],\n",
      "         [ 6.3121,  7.8482],\n",
      "         [ 9.7796, 12.2574],\n",
      "         [12.9720, 14.4392],\n",
      "         [15.4285, 16.4263],\n",
      "         [14.5674, 12.4154],\n",
      "         [10.2887,  7.4595],\n",
      "         [ 8.4448,  9.0848],\n",
      "         [ 9.8200, 11.2945],\n",
      "         [13.4065, 13.8817]]])\n"
     ]
    }
   ],
   "source": [
    "print(x)"
   ]
  },
  {
   "cell_type": "code",
   "execution_count": 331,
   "id": "93711e84",
   "metadata": {},
   "outputs": [
    {
     "name": "stdout",
     "output_type": "stream",
     "text": [
      "(tensor([[[10.1020],\n",
      "         [11.5467],\n",
      "         [ 9.8191],\n",
      "         [11.7825],\n",
      "         [16.2867],\n",
      "         [17.2246],\n",
      "         [17.7225],\n",
      "         [17.5446],\n",
      "         [18.8048],\n",
      "         [18.0711],\n",
      "         [17.1387],\n",
      "         [18.8598]],\n",
      "\n",
      "        [[10.8125],\n",
      "         [15.5010],\n",
      "         [17.5334],\n",
      "         [16.9526],\n",
      "         [14.1145],\n",
      "         [16.2567],\n",
      "         [16.1900],\n",
      "         [18.8450],\n",
      "         [19.7736],\n",
      "         [19.1642],\n",
      "         [18.5292],\n",
      "         [17.3074]],\n",
      "\n",
      "        [[ 4.7000],\n",
      "         [ 2.4055],\n",
      "         [ 0.9317],\n",
      "         [ 2.0303],\n",
      "         [ 2.1706],\n",
      "         [ 0.9205],\n",
      "         [ 2.2548],\n",
      "         [ 2.3441],\n",
      "         [ 1.9700],\n",
      "         [ 3.9325],\n",
      "         [ 1.3711],\n",
      "         [ 1.5058]],\n",
      "\n",
      "        [[10.9141],\n",
      "         [14.1234],\n",
      "         [12.4460],\n",
      "         [ 8.4726],\n",
      "         [ 8.9599],\n",
      "         [11.3834],\n",
      "         [13.9695],\n",
      "         [15.0619],\n",
      "         [12.9010],\n",
      "         [10.1868],\n",
      "         [ 9.8489],\n",
      "         [12.2044]]], grad_fn=<TransposeBackward1>), tensor([[[18.8598],\n",
      "         [17.3074],\n",
      "         [ 1.5058],\n",
      "         [12.2044]]], grad_fn=<StackBackward0>))\n"
     ]
    }
   ],
   "source": [
    "y = rnn(x)\n",
    "print(y)"
   ]
  },
  {
   "cell_type": "code",
   "execution_count": 384,
   "id": "5d21ffae",
   "metadata": {},
   "outputs": [
    {
     "name": "stdout",
     "output_type": "stream",
     "text": [
      "torch.Size([4, 2])\n"
     ]
    }
   ],
   "source": [
    "x = torch.ones([4,3,1]).squeeze()\n",
    "y = torch.ones([3,2])\n",
    "z = torch.matmul(x,y)\n",
    "print(z.shape)"
   ]
  },
  {
   "cell_type": "code",
   "execution_count": null,
   "id": "b24a879f",
   "metadata": {},
   "outputs": [],
   "source": []
  }
 ],
 "metadata": {
  "kernelspec": {
   "display_name": "Python 3 (ipykernel)",
   "language": "python",
   "name": "python3"
  },
  "language_info": {
   "codemirror_mode": {
    "name": "ipython",
    "version": 3
   },
   "file_extension": ".py",
   "mimetype": "text/x-python",
   "name": "python",
   "nbconvert_exporter": "python",
   "pygments_lexer": "ipython3",
   "version": "3.11.7"
  }
 },
 "nbformat": 4,
 "nbformat_minor": 5
}
